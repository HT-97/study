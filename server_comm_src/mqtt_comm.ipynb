{
 "cells": [
  {
   "attachments": {},
   "cell_type": "markdown",
   "metadata": {},
   "source": [
    "### MQTT 통신 (paho-mqtt 라이브러리 사용)"
   ]
  },
  {
   "cell_type": "code",
   "execution_count": null,
   "metadata": {},
   "outputs": [],
   "source": [
    "import paho.mqtt.client as mqtt\n",
    "\n",
    "# MQTT 클라이언트 생성 및 연결\n",
    "client = mqtt.Client()\n",
    "client.connect('서버주소', 1883)\n",
    "\n",
    "# 메시지 발행\n",
    "client.publish('topic', 'Hello, MQTT!')\n",
    "\n",
    "# 메시지 수신\n",
    "def on_message(client, userdata, msg):\n",
    "    print(msg.topic + \" \" + str(msg.payload))\n",
    "client.on_message = on_message\n",
    "client.subscribe('topic')\n",
    "\n",
    "client.loop_forever()\n"
   ]
  },
  {
   "attachments": {},
   "cell_type": "markdown",
   "metadata": {},
   "source": [
    "### MQTT 서버 (paho-mqtt 라이브러리 사용)"
   ]
  },
  {
   "cell_type": "code",
   "execution_count": null,
   "metadata": {},
   "outputs": [],
   "source": [
    "import paho.mqtt.client as mqtt\n",
    "\n",
    "def on_connect(client, userdata, flags, rc):\n",
    "    print('Connected to MQTT broker')\n",
    "    client.subscribe('topic')\n",
    "\n",
    "def on_message(client, userdata, msg):\n",
    "    print(msg.topic + \" \" + str(msg.payload))\n",
    "\n",
    "if __name__ == '__main__':\n",
    "    client = mqtt.Client()\n",
    "    client.on_connect = on_connect\n",
    "    client.on_message = on_message\n",
    "\n",
    "    client.connect('서버주소', 1883)\n",
    "    client.loop_forever()\n"
   ]
  }
 ],
 "metadata": {
  "kernelspec": {
   "display_name": "base",
   "language": "python",
   "name": "python3"
  },
  "language_info": {
   "name": "python",
   "version": "3.8.8"
  },
  "orig_nbformat": 4
 },
 "nbformat": 4,
 "nbformat_minor": 2
}
