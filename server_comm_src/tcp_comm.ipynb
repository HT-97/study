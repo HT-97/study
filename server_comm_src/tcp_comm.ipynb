{
 "cells": [
  {
   "attachments": {},
   "cell_type": "markdown",
   "metadata": {},
   "source": [
    "### 소켓 통신 (socket 모듈 사용)"
   ]
  },
  {
   "cell_type": "code",
   "execution_count": null,
   "metadata": {},
   "outputs": [],
   "source": [
    "import socket\n",
    "\n",
    "# TCP 클라이언트\n",
    "client_socket = socket.socket(socket.AF_INET, socket.SOCK_STREAM)\n",
    "server_address = ('서버주소', 1234)\n",
    "client_socket.connect(server_address)\n",
    "\n",
    "# 데이터 송신\n",
    "data = 'Hello, server!'\n",
    "client_socket.sendall(data.encode())\n",
    "\n",
    "# 데이터 수신\n",
    "response = client_socket.recv(1024)\n",
    "print(response.decode())\n",
    "\n",
    "# 연결 종료\n",
    "client_socket.close()\n"
   ]
  },
  {
   "attachments": {},
   "cell_type": "markdown",
   "metadata": {},
   "source": [
    "### TCP 소켓 서버"
   ]
  },
  {
   "cell_type": "code",
   "execution_count": null,
   "metadata": {},
   "outputs": [],
   "source": [
    "import socket\n",
    "\n",
    "def handle_client(client_socket):\n",
    "    request = client_socket.recv(1024)\n",
    "    print('Received:', request.decode())\n",
    "    response = 'Hello from TCP server!'\n",
    "    client_socket.sendall(response.encode())\n",
    "    client_socket.close()\n",
    "\n",
    "if __name__ == '__main__':\n",
    "    server_socket = socket.socket(socket.AF_INET, socket.SOCK_STREAM)\n",
    "    server_address = ('0.0.0.0', 1234)\n",
    "    server_socket.bind(server_address)\n",
    "    server_socket.listen(1)\n",
    "    print('TCP server is listening on', server_address)\n",
    "\n",
    "    while True:\n",
    "        client_socket, client_address = server_socket.accept()\n",
    "        print('Accepted connection from', client_address)\n",
    "        handle_client(client_socket)\n"
   ]
  }
 ],
 "metadata": {
  "language_info": {
   "name": "python"
  },
  "orig_nbformat": 4
 },
 "nbformat": 4,
 "nbformat_minor": 2
}
