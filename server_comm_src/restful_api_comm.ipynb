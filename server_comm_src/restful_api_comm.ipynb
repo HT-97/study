{
 "cells": [
  {
   "attachments": {},
   "cell_type": "markdown",
   "metadata": {},
   "source": [
    "### RESTful API (requests 라이브러리 사용)\n"
   ]
  },
  {
   "cell_type": "code",
   "execution_count": null,
   "metadata": {},
   "outputs": [],
   "source": [
    "import requests\n",
    "\n",
    "# GET 요청\n",
    "response = requests.get('http://서버주소/api/data')\n",
    "data = response.json()\n",
    "print(data)\n",
    "\n",
    "# POST 요청\n",
    "payload = {'name': 'John', 'age': 30}\n",
    "response = requests.post('http://서버주소/api/user', json=payload)\n",
    "print(response.status_code)\n"
   ]
  },
  {
   "attachments": {},
   "cell_type": "markdown",
   "metadata": {},
   "source": [
    "### RESTful API 서버 (Flask 사용)"
   ]
  },
  {
   "cell_type": "code",
   "execution_count": null,
   "metadata": {},
   "outputs": [],
   "source": [
    "from flask import Flask, request, jsonify\n",
    "\n",
    "app = Flask(__name__)\n",
    "\n",
    "@app.route('/api/data', methods=['GET'])\n",
    "def get_data():\n",
    "    data = {'message': 'Hello from RESTful API server'}\n",
    "    return jsonify(data)\n",
    "\n",
    "@app.route('/api/user', methods=['POST'])\n",
    "def create_user():\n",
    "    user = request.get_json()\n",
    "    # user 정보를 처리하는 로직 추가\n",
    "    return jsonify({'message': 'User created'})\n",
    "\n",
    "if __name__ == '__main__':\n",
    "    app.run(host='0.0.0.0', port=5000)\n"
   ]
  }
 ],
 "metadata": {
  "kernelspec": {
   "display_name": "base",
   "language": "python",
   "name": "python3"
  },
  "language_info": {
   "name": "python",
   "version": "3.8.8"
  },
  "orig_nbformat": 4
 },
 "nbformat": 4,
 "nbformat_minor": 2
}
